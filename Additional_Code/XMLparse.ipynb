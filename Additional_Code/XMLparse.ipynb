{
 "cells": [
  {
   "cell_type": "code",
   "execution_count": 1,
   "metadata": {},
   "outputs": [],
   "source": [
    "import os\n",
    "import xml.etree.ElementTree as ET\n",
    "import glob"
   ]
  },
  {
   "cell_type": "code",
   "execution_count": 4,
   "metadata": {},
   "outputs": [
    {
     "name": "stdout",
     "output_type": "stream",
     "text": [
      "c:\\Users\\schli\\OneDrive\\SP23\\ECE_561\\Darts\\images\n"
     ]
    }
   ],
   "source": [
    "xml_dir = os.getcwd() + \"\\images\"\n",
    "print(xml_dir)"
   ]
  },
  {
   "cell_type": "code",
   "execution_count": 6,
   "metadata": {},
   "outputs": [
    {
     "name": "stdout",
     "output_type": "stream",
     "text": [
      "['c:\\\\Users\\\\schli\\\\OneDrive\\\\SP23\\\\ECE_561\\\\Darts\\\\images\\\\0_0_13.xml', 'c:\\\\Users\\\\schli\\\\OneDrive\\\\SP23\\\\ECE_561\\\\Darts\\\\images\\\\0_0_3.xml', 'c:\\\\Users\\\\schli\\\\OneDrive\\\\SP23\\\\ECE_561\\\\Darts\\\\images\\\\0_0_8.xml', 'c:\\\\Users\\\\schli\\\\OneDrive\\\\SP23\\\\ECE_561\\\\Darts\\\\images\\\\10_1_1.xml', 'c:\\\\Users\\\\schli\\\\OneDrive\\\\SP23\\\\ECE_561\\\\Darts\\\\images\\\\10_1_2.xml', 'c:\\\\Users\\\\schli\\\\OneDrive\\\\SP23\\\\ECE_561\\\\Darts\\\\images\\\\10_1_7.xml', 'c:\\\\Users\\\\schli\\\\OneDrive\\\\SP23\\\\ECE_561\\\\Darts\\\\images\\\\10_2_0.xml', 'c:\\\\Users\\\\schli\\\\OneDrive\\\\SP23\\\\ECE_561\\\\Darts\\\\images\\\\10_3_1.xml', 'c:\\\\Users\\\\schli\\\\OneDrive\\\\SP23\\\\ECE_561\\\\Darts\\\\images\\\\11_1_6.xml', 'c:\\\\Users\\\\schli\\\\OneDrive\\\\SP23\\\\ECE_561\\\\Darts\\\\images\\\\11_1_7.xml', 'c:\\\\Users\\\\schli\\\\OneDrive\\\\SP23\\\\ECE_561\\\\Darts\\\\images\\\\11_1_8.xml', 'c:\\\\Users\\\\schli\\\\OneDrive\\\\SP23\\\\ECE_561\\\\Darts\\\\images\\\\11_2_3.xml', 'c:\\\\Users\\\\schli\\\\OneDrive\\\\SP23\\\\ECE_561\\\\Darts\\\\images\\\\12_1_0.xml', 'c:\\\\Users\\\\schli\\\\OneDrive\\\\SP23\\\\ECE_561\\\\Darts\\\\images\\\\12_1_10.xml', 'c:\\\\Users\\\\schli\\\\OneDrive\\\\SP23\\\\ECE_561\\\\Darts\\\\images\\\\12_1_11.xml', 'c:\\\\Users\\\\schli\\\\OneDrive\\\\SP23\\\\ECE_561\\\\Darts\\\\images\\\\12_1_2.xml', 'c:\\\\Users\\\\schli\\\\OneDrive\\\\SP23\\\\ECE_561\\\\Darts\\\\images\\\\12_1_5.xml', 'c:\\\\Users\\\\schli\\\\OneDrive\\\\SP23\\\\ECE_561\\\\Darts\\\\images\\\\12_1_7.xml', 'c:\\\\Users\\\\schli\\\\OneDrive\\\\SP23\\\\ECE_561\\\\Darts\\\\images\\\\12_2_0.xml', 'c:\\\\Users\\\\schli\\\\OneDrive\\\\SP23\\\\ECE_561\\\\Darts\\\\images\\\\12_2_4.xml', 'c:\\\\Users\\\\schli\\\\OneDrive\\\\SP23\\\\ECE_561\\\\Darts\\\\images\\\\12_3_2.xml', 'c:\\\\Users\\\\schli\\\\OneDrive\\\\SP23\\\\ECE_561\\\\Darts\\\\images\\\\13_1_0.xml', 'c:\\\\Users\\\\schli\\\\OneDrive\\\\SP23\\\\ECE_561\\\\Darts\\\\images\\\\13_1_1.xml', 'c:\\\\Users\\\\schli\\\\OneDrive\\\\SP23\\\\ECE_561\\\\Darts\\\\images\\\\13_1_4.xml', 'c:\\\\Users\\\\schli\\\\OneDrive\\\\SP23\\\\ECE_561\\\\Darts\\\\images\\\\13_1_7.xml', 'c:\\\\Users\\\\schli\\\\OneDrive\\\\SP23\\\\ECE_561\\\\Darts\\\\images\\\\13_2_2.xml', 'c:\\\\Users\\\\schli\\\\OneDrive\\\\SP23\\\\ECE_561\\\\Darts\\\\images\\\\14_1_10.xml', 'c:\\\\Users\\\\schli\\\\OneDrive\\\\SP23\\\\ECE_561\\\\Darts\\\\images\\\\14_1_4.xml', 'c:\\\\Users\\\\schli\\\\OneDrive\\\\SP23\\\\ECE_561\\\\Darts\\\\images\\\\14_1_5.xml', 'c:\\\\Users\\\\schli\\\\OneDrive\\\\SP23\\\\ECE_561\\\\Darts\\\\images\\\\14_1_6.xml', 'c:\\\\Users\\\\schli\\\\OneDrive\\\\SP23\\\\ECE_561\\\\Darts\\\\images\\\\14_1_7.xml', 'c:\\\\Users\\\\schli\\\\OneDrive\\\\SP23\\\\ECE_561\\\\Darts\\\\images\\\\14_1_8.xml', 'c:\\\\Users\\\\schli\\\\OneDrive\\\\SP23\\\\ECE_561\\\\Darts\\\\images\\\\14_2_3.xml', 'c:\\\\Users\\\\schli\\\\OneDrive\\\\SP23\\\\ECE_561\\\\Darts\\\\images\\\\14_3_0.xml', 'c:\\\\Users\\\\schli\\\\OneDrive\\\\SP23\\\\ECE_561\\\\Darts\\\\images\\\\15_2_0.xml', 'c:\\\\Users\\\\schli\\\\OneDrive\\\\SP23\\\\ECE_561\\\\Darts\\\\images\\\\15_2_1.xml', 'c:\\\\Users\\\\schli\\\\OneDrive\\\\SP23\\\\ECE_561\\\\Darts\\\\images\\\\15_2_4.xml', 'c:\\\\Users\\\\schli\\\\OneDrive\\\\SP23\\\\ECE_561\\\\Darts\\\\images\\\\15_3_1.xml', 'c:\\\\Users\\\\schli\\\\OneDrive\\\\SP23\\\\ECE_561\\\\Darts\\\\images\\\\15_3_2.xml', 'c:\\\\Users\\\\schli\\\\OneDrive\\\\SP23\\\\ECE_561\\\\Darts\\\\images\\\\16_1_0.xml', 'c:\\\\Users\\\\schli\\\\OneDrive\\\\SP23\\\\ECE_561\\\\Darts\\\\images\\\\16_2_0.xml', 'c:\\\\Users\\\\schli\\\\OneDrive\\\\SP23\\\\ECE_561\\\\Darts\\\\images\\\\16_2_1.xml', 'c:\\\\Users\\\\schli\\\\OneDrive\\\\SP23\\\\ECE_561\\\\Darts\\\\images\\\\16_2_3.xml', 'c:\\\\Users\\\\schli\\\\OneDrive\\\\SP23\\\\ECE_561\\\\Darts\\\\images\\\\16_3_0.xml', 'c:\\\\Users\\\\schli\\\\OneDrive\\\\SP23\\\\ECE_561\\\\Darts\\\\images\\\\17_1_7.xml', 'c:\\\\Users\\\\schli\\\\OneDrive\\\\SP23\\\\ECE_561\\\\Darts\\\\images\\\\17_1_8.xml', 'c:\\\\Users\\\\schli\\\\OneDrive\\\\SP23\\\\ECE_561\\\\Darts\\\\images\\\\17_2_0.xml', 'c:\\\\Users\\\\schli\\\\OneDrive\\\\SP23\\\\ECE_561\\\\Darts\\\\images\\\\17_2_3.xml', 'c:\\\\Users\\\\schli\\\\OneDrive\\\\SP23\\\\ECE_561\\\\Darts\\\\images\\\\18_1_2.xml', 'c:\\\\Users\\\\schli\\\\OneDrive\\\\SP23\\\\ECE_561\\\\Darts\\\\images\\\\18_1_5.xml', 'c:\\\\Users\\\\schli\\\\OneDrive\\\\SP23\\\\ECE_561\\\\Darts\\\\images\\\\18_2_4.xml', 'c:\\\\Users\\\\schli\\\\OneDrive\\\\SP23\\\\ECE_561\\\\Darts\\\\images\\\\19_1_10.xml', 'c:\\\\Users\\\\schli\\\\OneDrive\\\\SP23\\\\ECE_561\\\\Darts\\\\images\\\\1_1_1.xml', 'c:\\\\Users\\\\schli\\\\OneDrive\\\\SP23\\\\ECE_561\\\\Darts\\\\images\\\\1_1_7.xml', 'c:\\\\Users\\\\schli\\\\OneDrive\\\\SP23\\\\ECE_561\\\\Darts\\\\images\\\\1_2_3.xml', 'c:\\\\Users\\\\schli\\\\OneDrive\\\\SP23\\\\ECE_561\\\\Darts\\\\images\\\\1_3_3.xml', 'c:\\\\Users\\\\schli\\\\OneDrive\\\\SP23\\\\ECE_561\\\\Darts\\\\images\\\\20_1_4.xml', 'c:\\\\Users\\\\schli\\\\OneDrive\\\\SP23\\\\ECE_561\\\\Darts\\\\images\\\\20_1_7.xml', 'c:\\\\Users\\\\schli\\\\OneDrive\\\\SP23\\\\ECE_561\\\\Darts\\\\images\\\\20_2_1.xml', 'c:\\\\Users\\\\schli\\\\OneDrive\\\\SP23\\\\ECE_561\\\\Darts\\\\images\\\\20_2_2.xml', 'c:\\\\Users\\\\schli\\\\OneDrive\\\\SP23\\\\ECE_561\\\\Darts\\\\images\\\\20_3_0.xml', 'c:\\\\Users\\\\schli\\\\OneDrive\\\\SP23\\\\ECE_561\\\\Darts\\\\images\\\\20_3_1.xml', 'c:\\\\Users\\\\schli\\\\OneDrive\\\\SP23\\\\ECE_561\\\\Darts\\\\images\\\\20_3_4.xml', 'c:\\\\Users\\\\schli\\\\OneDrive\\\\SP23\\\\ECE_561\\\\Darts\\\\images\\\\25_1_3.xml', 'c:\\\\Users\\\\schli\\\\OneDrive\\\\SP23\\\\ECE_561\\\\Darts\\\\images\\\\25_1_8.xml', 'c:\\\\Users\\\\schli\\\\OneDrive\\\\SP23\\\\ECE_561\\\\Darts\\\\images\\\\25_1_9.xml', 'c:\\\\Users\\\\schli\\\\OneDrive\\\\SP23\\\\ECE_561\\\\Darts\\\\images\\\\25_2_2.xml', 'c:\\\\Users\\\\schli\\\\OneDrive\\\\SP23\\\\ECE_561\\\\Darts\\\\images\\\\2_1_5.xml', 'c:\\\\Users\\\\schli\\\\OneDrive\\\\SP23\\\\ECE_561\\\\Darts\\\\images\\\\2_2_0.xml', 'c:\\\\Users\\\\schli\\\\OneDrive\\\\SP23\\\\ECE_561\\\\Darts\\\\images\\\\2_2_3.xml', 'c:\\\\Users\\\\schli\\\\OneDrive\\\\SP23\\\\ECE_561\\\\Darts\\\\images\\\\2_3_0.xml', 'c:\\\\Users\\\\schli\\\\OneDrive\\\\SP23\\\\ECE_561\\\\Darts\\\\images\\\\3_2_4.xml', 'c:\\\\Users\\\\schli\\\\OneDrive\\\\SP23\\\\ECE_561\\\\Darts\\\\images\\\\4_1_1.xml', 'c:\\\\Users\\\\schli\\\\OneDrive\\\\SP23\\\\ECE_561\\\\Darts\\\\images\\\\4_1_4.xml', 'c:\\\\Users\\\\schli\\\\OneDrive\\\\SP23\\\\ECE_561\\\\Darts\\\\images\\\\4_1_6.xml', 'c:\\\\Users\\\\schli\\\\OneDrive\\\\SP23\\\\ECE_561\\\\Darts\\\\images\\\\4_2_1.xml', 'c:\\\\Users\\\\schli\\\\OneDrive\\\\SP23\\\\ECE_561\\\\Darts\\\\images\\\\5_1_1.xml', 'c:\\\\Users\\\\schli\\\\OneDrive\\\\SP23\\\\ECE_561\\\\Darts\\\\images\\\\5_2_3.xml', 'c:\\\\Users\\\\schli\\\\OneDrive\\\\SP23\\\\ECE_561\\\\Darts\\\\images\\\\6_2_0.xml', 'c:\\\\Users\\\\schli\\\\OneDrive\\\\SP23\\\\ECE_561\\\\Darts\\\\images\\\\6_3_2.xml', 'c:\\\\Users\\\\schli\\\\OneDrive\\\\SP23\\\\ECE_561\\\\Darts\\\\images\\\\7_1_1.xml', 'c:\\\\Users\\\\schli\\\\OneDrive\\\\SP23\\\\ECE_561\\\\Darts\\\\images\\\\7_1_2.xml', 'c:\\\\Users\\\\schli\\\\OneDrive\\\\SP23\\\\ECE_561\\\\Darts\\\\images\\\\7_1_3.xml', 'c:\\\\Users\\\\schli\\\\OneDrive\\\\SP23\\\\ECE_561\\\\Darts\\\\images\\\\7_1_9.xml', 'c:\\\\Users\\\\schli\\\\OneDrive\\\\SP23\\\\ECE_561\\\\Darts\\\\images\\\\7_2_0.xml', 'c:\\\\Users\\\\schli\\\\OneDrive\\\\SP23\\\\ECE_561\\\\Darts\\\\images\\\\7_2_2.xml', 'c:\\\\Users\\\\schli\\\\OneDrive\\\\SP23\\\\ECE_561\\\\Darts\\\\images\\\\7_3_1.xml', 'c:\\\\Users\\\\schli\\\\OneDrive\\\\SP23\\\\ECE_561\\\\Darts\\\\images\\\\8_1_3.xml', 'c:\\\\Users\\\\schli\\\\OneDrive\\\\SP23\\\\ECE_561\\\\Darts\\\\images\\\\8_1_6.xml', 'c:\\\\Users\\\\schli\\\\OneDrive\\\\SP23\\\\ECE_561\\\\Darts\\\\images\\\\8_2_0.xml', 'c:\\\\Users\\\\schli\\\\OneDrive\\\\SP23\\\\ECE_561\\\\Darts\\\\images\\\\8_2_4.xml', 'c:\\\\Users\\\\schli\\\\OneDrive\\\\SP23\\\\ECE_561\\\\Darts\\\\images\\\\9_1_1.xml', 'c:\\\\Users\\\\schli\\\\OneDrive\\\\SP23\\\\ECE_561\\\\Darts\\\\images\\\\9_1_2.xml', 'c:\\\\Users\\\\schli\\\\OneDrive\\\\SP23\\\\ECE_561\\\\Darts\\\\images\\\\9_1_3.xml', 'c:\\\\Users\\\\schli\\\\OneDrive\\\\SP23\\\\ECE_561\\\\Darts\\\\images\\\\9_1_8.xml', 'c:\\\\Users\\\\schli\\\\OneDrive\\\\SP23\\\\ECE_561\\\\Darts\\\\images\\\\9_3_0.xml', 'c:\\\\Users\\\\schli\\\\OneDrive\\\\SP23\\\\ECE_561\\\\Darts\\\\images\\\\9_3_3.xml']\n"
     ]
    }
   ],
   "source": [
    "xml_files = glob.glob(os.path.join(xml_dir, \"*.xml\"))\n",
    "print(xml_files)"
   ]
  },
  {
   "cell_type": "code",
   "execution_count": 7,
   "metadata": {},
   "outputs": [],
   "source": [
    "for xml_file in xml_files:\n",
    "    tree = ET.parse(xml_file)\n",
    "    root = tree.getroot()\n",
    "\n",
    "    path_elem = root.find(\"path\")\n",
    "    path_elem.text = os.path.dirname(xml_file)\n",
    "\n",
    "    tree.write(xml_file)"
   ]
  }
 ],
 "metadata": {
  "kernelspec": {
   "display_name": "yolov5",
   "language": "python",
   "name": "python3"
  },
  "language_info": {
   "codemirror_mode": {
    "name": "ipython",
    "version": 3
   },
   "file_extension": ".py",
   "mimetype": "text/x-python",
   "name": "python",
   "nbconvert_exporter": "python",
   "pygments_lexer": "ipython3",
   "version": "3.9.16"
  },
  "orig_nbformat": 4
 },
 "nbformat": 4,
 "nbformat_minor": 2
}
